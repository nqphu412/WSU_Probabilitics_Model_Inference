{
 "cells": [
  {
   "cell_type": "code",
   "execution_count": 2,
   "id": "40616713-cd6f-4d4c-93f9-85c34e1fd770",
   "metadata": {},
   "outputs": [],
   "source": [
    "import itertools\n",
    "import numpy as np"
   ]
  },
  {
   "cell_type": "code",
   "execution_count": 3,
   "id": "0abeefb8-8818-4542-8469-47cf7f765b0a",
   "metadata": {},
   "outputs": [
    {
     "data": {
      "text/plain": [
       "array([[0., 0., 0., 0., 0.],\n",
       "       [0., 0., 0., 0., 0.],\n",
       "       [0., 0., 0., 0., 0.]])"
      ]
     },
     "execution_count": 3,
     "metadata": {},
     "output_type": "execute_result"
    }
   ],
   "source": [
    "joint_count = np.zeros((3,5)) # Initial any value and change later\n",
    "joint_count"
   ]
  },
  {
   "cell_type": "code",
   "execution_count": 4,
   "id": "fe06bf10-2189-48f3-9906-c5e9cbd3098a",
   "metadata": {},
   "outputs": [],
   "source": [
    "outcome_space = list(itertools.product('123456', repeat=4))"
   ]
  },
  {
   "cell_type": "code",
   "execution_count": 5,
   "id": "7ef7a432-38b0-460c-925b-c0a7c9851199",
   "metadata": {},
   "outputs": [],
   "source": [
    "for event in outcome_space:\n",
    "    x, y = 0, 0\n",
    "    count = 1\n",
    "    for value in event:\n",
    "        if value == '1' or value == '2':\n",
    "            y = y + 1\n",
    "            if count < 3:\n",
    "                x = x + 1\n",
    "        count = count + 1\n",
    "    joint_count[x,y] = joint_count[x,y] + 1"
   ]
  },
  {
   "cell_type": "code",
   "execution_count": 6,
   "id": "270195ea-ff40-46f9-bba5-7ddfba3be40d",
   "metadata": {},
   "outputs": [
    {
     "name": "stdout",
     "output_type": "stream",
     "text": [
      "[[0.19753086 0.19753086 0.04938272 0.         0.        ]\n",
      " [0.         0.19753086 0.19753086 0.04938272 0.        ]\n",
      " [0.         0.         0.04938272 0.04938272 0.01234568]]\n"
     ]
    }
   ],
   "source": [
    "joint_prob = joint_count/len(outcome_space)\n",
    "print(joint_prob)"
   ]
  },
  {
   "cell_type": "code",
   "execution_count": 7,
   "id": "a775332e-0d08-4264-b56d-93b8b69f69a5",
   "metadata": {},
   "outputs": [
    {
     "name": "stdout",
     "output_type": "stream",
     "text": [
      "p_x0, p_x1, p_x2 respectively  [0.44444444 0.44444444 0.11111111]\n",
      "p_y0, p_y1, p_y2, p_y3, p_y4 respectively [0.19753086 0.39506173 0.2962963  0.09876543 0.01234568]\n"
     ]
    }
   ],
   "source": [
    "p_x = np.sum(joint_prob, axis=1) # axis = 1, sum by row \n",
    "p_y = np.sum(joint_prob, axis=0) # axis = 0, sum by column\n",
    "print ('p_x0, p_x1, p_x2 respectively ', p_x)\n",
    "print ('p_y0, p_y1, p_y2, p_y3, p_y4 respectively', p_y)  "
   ]
  },
  {
   "cell_type": "code",
   "execution_count": 8,
   "id": "2134f00f-c7ce-4373-a167-10f79fb90fd5",
   "metadata": {},
   "outputs": [
    {
     "name": "stdout",
     "output_type": "stream",
     "text": [
      "[[ True  True  True  True  True]\n",
      " [ True  True  True  True  True]\n",
      " [ True  True  True  True  True]]\n",
      "[[ True  True  True  True  True]\n",
      " [ True  True  True  True  True]\n",
      " [ True  True  True  True  True]]\n",
      "[[1.         0.5        0.16666667 0.         0.        ]\n",
      " [0.         0.5        0.66666667 0.5        0.        ]\n",
      " [0.         0.         0.16666667 0.5        1.        ]]\n",
      "0.4444444444444444\n",
      "0.4444444444444444\n",
      "0.4444444444444444\n",
      "0.4444444444444444\n",
      "0.4444444444444444\n",
      "0.4444444444444444\n",
      "0.4444444444444444\n",
      "0.4444444444444444\n",
      "0.4444444444444444\n",
      "0.4444444444444444\n",
      "0.1111111111111111\n",
      "0.1111111111111111\n",
      "0.1111111111111111\n",
      "0.1111111111111111\n",
      "0.1111111111111111\n",
      "[[2.25  1.125 0.375 0.    0.   ]\n",
      " [0.    1.125 1.5   1.125 0.   ]\n",
      " [0.    0.    1.5   4.5   9.   ]]\n"
     ]
    }
   ],
   "source": [
    "p_x_given_y, p_y_given_x = joint_prob, joint_prob # Just initially\n",
    "\n",
    "for x in range(0,3):\n",
    "    for y in range(0,5):\n",
    "        p_x_given_y[x,y] = p_x_given_y[x,y]/p_y[y]\n",
    "\n",
    "print(p_x_given_y)\n",
    "\n",
    "\n",
    "for x in range(0,3):\n",
    "    for y in range(0,5):\n",
    "        p_y_given_x[x,y] = p_y_given_x[x,y]/p_x[x]\n",
    "        print(p_x[x])\n",
    "\n",
    "print(p_y_given_x)"
   ]
  },
  {
   "cell_type": "code",
   "execution_count": 9,
   "id": "cf5723eb-cda4-4b89-b4af-ed910bb7e9ff",
   "metadata": {},
   "outputs": [
    {
     "data": {
      "text/plain": [
       "array([[2.25 , 1.125, 0.375, 0.   , 0.   ],\n",
       "       [0.   , 1.125, 1.5  , 1.125, 0.   ],\n",
       "       [0.   , 0.   , 1.5  , 4.5  , 9.   ]])"
      ]
     },
     "execution_count": 9,
     "metadata": {},
     "output_type": "execute_result"
    }
   ],
   "source": [
    "joint_prob"
   ]
  }
 ],
 "metadata": {
  "kernelspec": {
   "display_name": "Python 3 (ipykernel)",
   "language": "python",
   "name": "python3"
  },
  "language_info": {
   "codemirror_mode": {
    "name": "ipython",
    "version": 3
   },
   "file_extension": ".py",
   "mimetype": "text/x-python",
   "name": "python",
   "nbconvert_exporter": "python",
   "pygments_lexer": "ipython3",
   "version": "3.12.4"
  }
 },
 "nbformat": 4,
 "nbformat_minor": 5
}
